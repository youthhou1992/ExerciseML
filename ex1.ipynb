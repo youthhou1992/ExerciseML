{
 "cells": [
  {
   "cell_type": "markdown",
   "metadata": {},
   "source": [
    "## 线性回归"
   ]
  },
  {
   "cell_type": "code",
   "execution_count": 160,
   "metadata": {},
   "outputs": [],
   "source": [
    "#线性回归\n",
    "def forward(wts, x):\n",
    "    return np.dot(wts, x)\n",
    "\n",
    "#采用平方差损失\n",
    "def criterion(pred, lbl):\n",
    "    return np.mean((pred-lbl)**2)/2\n",
    "\n",
    "#采用梯度下降算法求解\n",
    "\n",
    "def gradientDescent(inp, lbl, max_iter, lr=0.001):\n",
    "    losses = []\n",
    "    #input:x, y\n",
    "    #init weights\n",
    "    wts_num = inp.shape[0]\n",
    "    wts = np.zeros(wts_num)\n",
    "#     print(wts.shape)\n",
    "    for i in range(max_iter):\n",
    "        #compute cost\n",
    "        wts = wts.reshape(1,wts_num)\n",
    "        pred = forward(wts, inp)\n",
    "#         print('pred:',pred)\n",
    "        loss = criterion(pred, lbl)\n",
    "#         print('loss:',loss)\n",
    "        losses.append(loss)\n",
    "        dw = [np.mean((pred-lbl)*inp[col,:]) for col in range(wts.shape[1])]\n",
    "#         print(dw)\n",
    "        wts = np.array([wts[0,idx]-lr*dw[idx] for idx in range(wts.shape[1])])\n",
    "    print(\"finished! final loss is :\", loss)\n",
    "    return losses, wts"
   ]
  },
  {
   "cell_type": "markdown",
   "metadata": {},
   "source": [
    "### 一元线性回归"
   ]
  },
  {
   "cell_type": "code",
   "execution_count": 3,
   "metadata": {},
   "outputs": [],
   "source": [
    "import numpy as np\n",
    "import matplotlib.pyplot as plt\n",
    "%matplotlib inline"
   ]
  },
  {
   "cell_type": "code",
   "execution_count": 161,
   "metadata": {},
   "outputs": [
    {
     "name": "stdout",
     "output_type": "stream",
     "text": [
      "inp shape: (2, 97)\n",
      "lbl shape: (1, 97)\n"
     ]
    }
   ],
   "source": [
    "#加载数据\n",
    "data_path = 'ex1/ex1data1.txt'\n",
    "data = np.loadtxt(data_path, delimiter=',')\n",
    "m = data.shape[0]\n",
    "inp = data[:,0].reshape(m,-1)\n",
    "bias = np.ones((1, m))\n",
    "inp = np.insert(inp, 0, values=bias, axis=1)\n",
    "inp = inp.transpose()\n",
    "lbl = data[:,1].reshape(1, m)\n",
    "print(\"inp shape:\", inp.shape)\n",
    "print(\"lbl shape:\", lbl.shape)"
   ]
  },
  {
   "cell_type": "code",
   "execution_count": 146,
   "metadata": {},
   "outputs": [
    {
     "data": {
      "image/png": "[encoded data removed]",
      "text/plain": [
       "<Figure size 432x288 with 1 Axes>"
      ]
     },
     "metadata": {
      "needs_background": "light"
     },
     "output_type": "display_data"
    }
   ],
   "source": [
    "#可视化输入数据\n",
    "plt.plot(inp[1,:], lbl[0,:], 'rx')\n",
    "plt.show()"
   ]
  },
  {
   "cell_type": "code",
   "execution_count": 162,
   "metadata": {},
   "outputs": [
    {
     "name": "stdout",
     "output_type": "stream",
     "text": [
      "finished! final loss is : 4.516096429262984\n"
     ]
    }
   ],
   "source": [
    "#学习率\n",
    "lr = 0.01\n",
    "#迭代次数\n",
    "epoch = 1000\n",
    "loss, wts = gradientDescent(inp, lbl, epoch, lr)"
   ]
  },
  {
   "cell_type": "markdown",
   "metadata": {},
   "source": [
    "可视化损失变化，检查梯度下降算法是否正常运行"
   ]
  },
  {
   "cell_type": "code",
   "execution_count": 163,
   "metadata": {
    "scrolled": false
   },
   "outputs": [
    {
     "data": {
      "image/png": "[encoded data removed]",
      "text/plain": [
       "<Figure size 432x288 with 1 Axes>"
      ]
     },
     "metadata": {
      "needs_background": "light"
     },
     "output_type": "display_data"
    }
   ],
   "source": [
    "plt.plot(range(len(loss)), loss, 'b-')\n",
    "plt.show()"
   ]
  },
  {
   "cell_type": "markdown",
   "metadata": {},
   "source": [
    "看起来OK！！"
   ]
  },
  {
   "cell_type": "markdown",
   "metadata": {},
   "source": [
    "可视化拟合效果"
   ]
  },
  {
   "cell_type": "code",
   "execution_count": 145,
   "metadata": {},
   "outputs": [
    {
     "data": {
      "image/png": "[encoded data removed]",
      "text/plain": [
       "<Figure size 432x288 with 1 Axes>"
      ]
     },
     "metadata": {
      "needs_background": "light"
     },
     "output_type": "display_data"
    }
   ],
   "source": [
    "plt.plot(inp[1,:], lbl[0,:], 'rx')\n",
    "plt.plot(inp[1,:], forward(wts, inp), 'b-')\n",
    "plt.show()"
   ]
  },
  {
   "cell_type": "markdown",
   "metadata": {},
   "source": [
    "### 多元线性回归"
   ]
  },
  {
   "cell_type": "markdown",
   "metadata": {},
   "source": [
    "加载数据"
   ]
  },
  {
   "cell_type": "code",
   "execution_count": 147,
   "metadata": {},
   "outputs": [],
   "source": [
    "data_path = 'ex1/ex1data2.txt'\n",
    "data = np.loadtxt(data_path, delimiter=',')\n",
    "m = data.shape[0]\n",
    "ipt, lbl = data[:,:-1], data[:,-1]"
   ]
  },
  {
   "cell_type": "markdown",
   "metadata": {},
   "source": [
    "特征归一化"
   ]
  },
  {
   "cell_type": "code",
   "execution_count": 90,
   "metadata": {},
   "outputs": [],
   "source": [
    "def Norm(x):\n",
    "    mean = np.mean(x,axis=0)\n",
    "    std = np.std(x, axis=0)\n",
    "    return mean, std, (x-mean)/std"
   ]
  },
  {
   "cell_type": "code",
   "execution_count": 151,
   "metadata": {
    "scrolled": true
   },
   "outputs": [],
   "source": [
    "mean, std, inp = Norm(ipt)\n",
    "bias = np.ones(inp.shape[0])\n",
    "inp = np.insert(inp, 0, values=bias, axis=1)#数据的第一个特征值设为1，对应偏置项\n",
    "inp = inp.reshape(-1, m)\n",
    "lbl = lbl.reshape(-1,m)"
   ]
  },
  {
   "cell_type": "code",
   "execution_count": 154,
   "metadata": {},
   "outputs": [
    {
     "name": "stdout",
     "output_type": "stream",
     "text": [
      "finished! final loss is : 38581479899.21505\n"
     ]
    }
   ],
   "source": [
    "lr = 1\n",
    "epoch=60000\n",
    "wts, loss = gradientDescent(epoch, lr)"
   ]
  },
  {
   "cell_type": "code",
   "execution_count": 157,
   "metadata": {},
   "outputs": [
    {
     "data": {
      "text/plain": [
       "293081.4643348961"
      ]
     },
     "execution_count": 157,
     "metadata": {},
     "output_type": "execute_result"
    }
   ],
   "source": [
    "ytest = np.array([1650.,3.])\n",
    "xt = (ytest - mean)/std\n",
    "xt = np.insert(xt,0,1)\n",
    "multi_forward(weght, xt)"
   ]
  },
  {
   "cell_type": "code",
   "execution_count": 101,
   "metadata": {},
   "outputs": [
    {
     "data": {
      "image/png": "[encoded data removed]",
      "text/plain": [
       "<Figure size 432x288 with 1 Axes>"
      ]
     },
     "metadata": {
      "needs_background": "light"
     },
     "output_type": "display_data"
    }
   ],
   "source": [
    "plt.plot(range(len(loss)), loss, 'r-')\n",
    "plt.show()"
   ]
  }
 ],
 "metadata": {
  "kernelspec": {
   "display_name": "Python 3",
   "language": "python",
   "name": "python3"
  },
  "language_info": {
   "codemirror_mode": {
    "name": "ipython",
    "version": 3
   },
   "file_extension": ".py",
   "mimetype": "text/x-python",
   "name": "python",
   "nbconvert_exporter": "python",
   "pygments_lexer": "ipython3",
   "version": "3.7.3"
  }
 },
 "nbformat": 4,
 "nbformat_minor": 4
}
